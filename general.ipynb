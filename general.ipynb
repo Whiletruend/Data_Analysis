{
 "cells": [
  {
   "cell_type": "markdown",
   "metadata": {},
   "source": [
    "<font size=\"4\">Projet: Ranked Games LoL Analysis<br><br>\n",
    "<font size=\"3\">**Problématique:** Récupérer les informations d'un personnage selon son nom, étudier son \"winrate\" et l'établir sur un graphique.<br>\n",
    "<font size=\"3\">**Membre attitré:** Benjamin B."
   ]
  },
  {
   "cell_type": "markdown",
   "metadata": {},
   "source": [
    "<font color=\"lightblue\">**Partie 01:** <font color=\"white\">Importation(s)<br>\n",
    "<font color=\"lightblue\">**Objectif:** <font color=\"white\">Installation des dépendances requises *(numpy et pandas)*"
   ]
  },
  {
   "cell_type": "code",
   "execution_count": null,
   "metadata": {},
   "outputs": [
    {
     "name": "stdout",
     "output_type": "stream",
     "text": [
      "Collecting numpy\n",
      "  Downloading numpy-1.24.2-cp38-cp38-manylinux_2_17_x86_64.manylinux2014_x86_64.whl (17.3 MB)\n",
      "\u001b[2K     \u001b[90m━━━━━━━━━━━━━━━━━━━━━━━━━━━━━━━━━━━━━━━━\u001b[0m \u001b[32m17.3/17.3 MB\u001b[0m \u001b[31m64.5 MB/s\u001b[0m eta \u001b[36m0:00:00\u001b[0m00:01\u001b[0m00:01\u001b[0m\n",
      "\u001b[?25hInstalling collected packages: numpy\n",
      "Successfully installed numpy-1.24.2\n",
      "\n",
      "\u001b[1m[\u001b[0m\u001b[34;49mnotice\u001b[0m\u001b[1;39;49m]\u001b[0m\u001b[39;49m A new release of pip available: \u001b[0m\u001b[31;49m22.3.1\u001b[0m\u001b[39;49m -> \u001b[0m\u001b[32;49m23.0\u001b[0m\n",
      "\u001b[1m[\u001b[0m\u001b[34;49mnotice\u001b[0m\u001b[1;39;49m]\u001b[0m\u001b[39;49m To update, run: \u001b[0m\u001b[32;49mpip install --upgrade pip\u001b[0m\n",
      "Collecting pandas\n",
      "  Downloading pandas-1.5.3-cp38-cp38-manylinux_2_17_x86_64.manylinux2014_x86_64.whl (12.2 MB)\n",
      "\u001b[2K     \u001b[90m━━━━━━━━━━━━━━━━━━━━━━━━━━━━━━━━━━━━━━━━\u001b[0m \u001b[32m12.2/12.2 MB\u001b[0m \u001b[31m55.7 MB/s\u001b[0m eta \u001b[36m0:00:00\u001b[0m00:01\u001b[0m0:01\u001b[0m\n",
      "\u001b[?25hRequirement already satisfied: python-dateutil>=2.8.1 in /home/gitpod/.pyenv/versions/3.8.16/lib/python3.8/site-packages (from pandas) (2.8.2)\n",
      "Collecting pytz>=2020.1\n",
      "  Downloading pytz-2022.7.1-py2.py3-none-any.whl (499 kB)\n",
      "\u001b[2K     \u001b[90m━━━━━━━━━━━━━━━━━━━━━━━━━━━━━━━━━━━━━━\u001b[0m \u001b[32m499.4/499.4 kB\u001b[0m \u001b[31m51.3 MB/s\u001b[0m eta \u001b[36m0:00:00\u001b[0m\n",
      "\u001b[?25hRequirement already satisfied: numpy>=1.20.3 in /home/gitpod/.pyenv/versions/3.8.16/lib/python3.8/site-packages (from pandas) (1.24.2)\n",
      "Requirement already satisfied: six>=1.5 in /home/gitpod/.pyenv/versions/3.8.16/lib/python3.8/site-packages (from python-dateutil>=2.8.1->pandas) (1.16.0)\n",
      "Installing collected packages: pytz, pandas\n",
      "Successfully installed pandas-1.5.3 pytz-2022.7.1\n",
      "\n",
      "\u001b[1m[\u001b[0m\u001b[34;49mnotice\u001b[0m\u001b[1;39;49m]\u001b[0m\u001b[39;49m A new release of pip available: \u001b[0m\u001b[31;49m22.3.1\u001b[0m\u001b[39;49m -> \u001b[0m\u001b[32;49m23.0\u001b[0m\n",
      "\u001b[1m[\u001b[0m\u001b[34;49mnotice\u001b[0m\u001b[1;39;49m]\u001b[0m\u001b[39;49m To update, run: \u001b[0m\u001b[32;49mpip install --upgrade pip\u001b[0m\n",
      "Collecting matplotlib\n",
      "  Downloading matplotlib-3.7.0-cp38-cp38-manylinux_2_12_x86_64.manylinux2010_x86_64.whl (9.2 MB)\n",
      "\u001b[2K     \u001b[90m━━━━━━━━━━━━━━━━━━━━━━━━━━━━━━━━━━━━━━━━\u001b[0m \u001b[32m9.2/9.2 MB\u001b[0m \u001b[31m51.9 MB/s\u001b[0m eta \u001b[36m0:00:00\u001b[0m00:01\u001b[0m00:01\u001b[0m\n",
      "\u001b[?25hRequirement already satisfied: numpy>=1.20 in /home/gitpod/.pyenv/versions/3.8.16/lib/python3.8/site-packages (from matplotlib) (1.24.2)\n",
      "Requirement already satisfied: importlib-resources>=3.2.0 in /home/gitpod/.pyenv/versions/3.8.16/lib/python3.8/site-packages (from matplotlib) (5.10.2)\n",
      "Collecting fonttools>=4.22.0\n",
      "  Downloading fonttools-4.38.0-py3-none-any.whl (965 kB)\n",
      "\u001b[2K     \u001b[90m━━━━━━━━━━━━━━━━━━━━━━━━━━━━━━━━━━━━━━\u001b[0m \u001b[32m965.4/965.4 kB\u001b[0m \u001b[31m96.6 MB/s\u001b[0m eta \u001b[36m0:00:00\u001b[0m\n",
      "\u001b[?25hCollecting contourpy>=1.0.1\n",
      "  Downloading contourpy-1.0.7-cp38-cp38-manylinux_2_17_x86_64.manylinux2014_x86_64.whl (300 kB)\n",
      "\u001b[2K     \u001b[90m━━━━━━━━━━━━━━━━━━━━━━━━━━━━━━━━━━━━━━\u001b[0m \u001b[32m300.0/300.0 kB\u001b[0m \u001b[31m15.1 MB/s\u001b[0m eta \u001b[36m0:00:00\u001b[0m\n",
      "\u001b[?25hRequirement already satisfied: packaging>=20.0 in /home/gitpod/.pyenv/versions/3.8.16/lib/python3.8/site-packages (from matplotlib) (23.0)\n",
      "Requirement already satisfied: python-dateutil>=2.7 in /home/gitpod/.pyenv/versions/3.8.16/lib/python3.8/site-packages (from matplotlib) (2.8.2)\n",
      "Collecting cycler>=0.10\n",
      "  Downloading cycler-0.11.0-py3-none-any.whl (6.4 kB)\n",
      "Collecting pillow>=6.2.0\n",
      "  Downloading Pillow-9.4.0-cp38-cp38-manylinux_2_28_x86_64.whl (3.4 MB)\n",
      "\u001b[2K     \u001b[90m━━━━━━━━━━━━━━━━━━━━━━━━━━━━━━━━━━━━━━━━\u001b[0m \u001b[32m3.4/3.4 MB\u001b[0m \u001b[31m66.4 MB/s\u001b[0m eta \u001b[36m0:00:00\u001b[0m:00:01\u001b[0m\n",
      "\u001b[?25hCollecting kiwisolver>=1.0.1\n",
      "  Downloading kiwisolver-1.4.4-cp38-cp38-manylinux_2_5_x86_64.manylinux1_x86_64.whl (1.2 MB)\n",
      "\u001b[2K     \u001b[90m━━━━━━━━━━━━━━━━━━━━━━━━━━━━━━━━━━━━━━━━\u001b[0m \u001b[32m1.2/1.2 MB\u001b[0m \u001b[31m67.7 MB/s\u001b[0m eta \u001b[36m0:00:00\u001b[0m\n",
      "\u001b[?25hCollecting pyparsing>=2.3.1\n",
      "  Downloading pyparsing-3.0.9-py3-none-any.whl (98 kB)\n",
      "\u001b[2K     \u001b[90m━━━━━━━━━━━━━━━━━━━━━━━━━━━━━━━━━━━━━━━━\u001b[0m \u001b[32m98.3/98.3 kB\u001b[0m \u001b[31m27.8 MB/s\u001b[0m eta \u001b[36m0:00:00\u001b[0m\n",
      "\u001b[?25hRequirement already satisfied: zipp>=3.1.0 in /home/gitpod/.pyenv/versions/3.8.16/lib/python3.8/site-packages (from importlib-resources>=3.2.0->matplotlib) (3.11.0)\n",
      "Requirement already satisfied: six>=1.5 in /home/gitpod/.pyenv/versions/3.8.16/lib/python3.8/site-packages (from python-dateutil>=2.7->matplotlib) (1.16.0)\n",
      "Installing collected packages: pyparsing, pillow, kiwisolver, fonttools, cycler, contourpy, matplotlib\n",
      "Successfully installed contourpy-1.0.7 cycler-0.11.0 fonttools-4.38.0 kiwisolver-1.4.4 matplotlib-3.7.0 pillow-9.4.0 pyparsing-3.0.9\n",
      "\n",
      "\u001b[1m[\u001b[0m\u001b[34;49mnotice\u001b[0m\u001b[1;39;49m]\u001b[0m\u001b[39;49m A new release of pip available: \u001b[0m\u001b[31;49m22.3.1\u001b[0m\u001b[39;49m -> \u001b[0m\u001b[32;49m23.0\u001b[0m\n",
      "\u001b[1m[\u001b[0m\u001b[34;49mnotice\u001b[0m\u001b[1;39;49m]\u001b[0m\u001b[39;49m To update, run: \u001b[0m\u001b[32;49mpip install --upgrade pip\u001b[0m\n"
     ]
    }
   ],
   "source": [
    "import sys\n",
    "\n",
    "!{sys.executable} -m pip install numpy\n",
    "!{sys.executable} -m pip install pandas\n",
    "!{sys.executable} -m pip install matplotlib"
   ]
  },
  {
   "cell_type": "markdown",
   "metadata": {},
   "source": [
    "<font color=\"lightblue\">**Partie 02:** <font color=\"white\">Affichage<br>\n",
    "<font color=\"lightblue\">**Objectif:** <font color=\"white\">Affichage <ins>basique</ins> du CSV"
   ]
  },
  {
   "cell_type": "code",
   "execution_count": null,
   "metadata": {},
   "outputs": [
    {
     "name": "stdout",
     "output_type": "stream",
     "text": [
      "           gameId   creationTime  gameDuration  seasonId  winner  firstBlood  \\\n",
      "0      3326086514  1504279457970          1949         9       1           2   \n",
      "1      3229566029  1497848803862          1851         9       1           1   \n",
      "2      3327363504  1504360103310          1493         9       1           2   \n",
      "3      3326856598  1504348503996          1758         9       1           1   \n",
      "4      3330080762  1504554410899          2094         9       1           2   \n",
      "...           ...            ...           ...       ...     ...         ...   \n",
      "51485  3308904636  1503076540231          1944         9       2           1   \n",
      "51486  3215685759  1496957179355          3304         9       2           1   \n",
      "51487  3322765040  1504029863961          2156         9       2           2   \n",
      "51488  3256675373  1499562036246          1475         9       2           2   \n",
      "51489  3317333020  1503612754059          1445         9       1           1   \n",
      "\n",
      "       firstTower  firstInhibitor  firstBaron  firstDragon  ...  \\\n",
      "0               1               1           1            1  ...   \n",
      "1               1               1           0            1  ...   \n",
      "2               1               1           1            2  ...   \n",
      "3               1               1           1            1  ...   \n",
      "4               1               1           1            1  ...   \n",
      "...           ...             ...         ...          ...  ...   \n",
      "51485           2               2           0            2  ...   \n",
      "51486           1               2           2            2  ...   \n",
      "51487           2               2           0            1  ...   \n",
      "51488           2               2           0            2  ...   \n",
      "51489           1               1           1            2  ...   \n",
      "\n",
      "       t2_towerKills  t2_inhibitorKills  t2_baronKills  t2_dragonKills  \\\n",
      "0                  5                  0              0               1   \n",
      "1                  2                  0              0               0   \n",
      "2                  2                  0              0               1   \n",
      "3                  0                  0              0               0   \n",
      "4                  3                  0              0               1   \n",
      "...              ...                ...            ...             ...   \n",
      "51485             10                  2              0               4   \n",
      "51486             11                  7              4               4   \n",
      "51487             10                  2              0               2   \n",
      "51488             11                  3              0               1   \n",
      "51489              1                  0              0               1   \n",
      "\n",
      "       t2_riftHeraldKills  t2_ban1  t2_ban2  t2_ban3  t2_ban4  t2_ban5  \n",
      "0                       1      114       67       43       16       51  \n",
      "1                       0       11       67      238       51      420  \n",
      "2                       0      157      238      121       57       28  \n",
      "3                       0      164       18      141       40       51  \n",
      "4                       0       86       11      201      122       18  \n",
      "...                   ...      ...      ...      ...      ...      ...  \n",
      "51485                   0       55       -1       90      238      157  \n",
      "51486                   1      157       55      119      154      105  \n",
      "51487                   0      113      122       53       11      157  \n",
      "51488                   0      154       39       51       90      114  \n",
      "51489                   0       11      157      141       31       18  \n",
      "\n",
      "[51490 rows x 61 columns]\n"
     ]
    }
   ],
   "source": [
    "# Import(s)\n",
    "import pandas as pd;\n",
    "import numpy as np;\n",
    "\n",
    "# Variable(s)\n",
    "csv_file = 'lol_ranked_games.csv'; \n",
    "csv_read = pd.read_csv(csv_file);\n",
    "\n",
    "# Render\n",
    "print(csv_read);"
   ]
  },
  {
   "cell_type": "markdown",
   "metadata": {},
   "source": [
    "<font color=\"lightblue\">**Partie 03:** <font color=\"white\">Chercher un personnage<br>\n",
    "<font color=\"lightblue\">**Objectif:** <font color=\"white\">Trouver et afficher le nombre de parties d'un personnage selon son <ins>ID</ins>."
   ]
  },
  {
   "cell_type": "code",
   "execution_count": null,
   "metadata": {},
   "outputs": [],
   "source": [
    "# Import(s)\n",
    "import pandas as pd;\n",
    "import numpy as np;\n",
    "\n",
    "# Variable(s)\n",
    "csv_file = 'lol_ranked_games.csv'; \n",
    "csv_read = pd.read_csv(csv_file);\n",
    "\n",
    "character_id = 1;\n",
    "games_inc = 0;\n",
    "columns = [\n",
    "    't1_champ1id', 't1_champ2id', 't1_champ3id', 't1_champ4id', 't1_champ5id', \n",
    "    't2_champ1id', 't2_champ2id', 't2_champ3id', 't2_champ4id', 't2_champ5id'\n",
    "];\n",
    "\n",
    "# For loop\n",
    "for index, row in csv_read.iterrows():\n",
    "    if character_id in row[columns].values:\n",
    "        games_inc = games_inc + 1;\n",
    "\n",
    "# Render\n",
    "print(\"Le personnage possédant l'ID \" + str(character_id) + \" a joué \" + str(games_inc) + \" parties.\");"
   ]
  },
  {
   "cell_type": "markdown",
   "metadata": {},
   "source": [
    "<font color=\"lightblue\">**Partie 04:** <font color=\"white\">Utilisation du Json<br>\n",
    "<font color=\"lightblue\">**Objectif:** <font color=\"white\">Code similaire à l'ancien, cependant celui-ci a pour objectif d'afficher le nom du champion plutôt que son ID."
   ]
  },
  {
   "cell_type": "code",
   "execution_count": null,
   "metadata": {},
   "outputs": [],
   "source": [
    "# Import(s)\n",
    "import pandas as pd;\n",
    "import numpy as np;\n",
    "\n",
    "# Utils variable(s)\n",
    "csv_file = 'lol_ranked_games.csv'; \n",
    "json_file = 'champion_info.json';\n",
    "\n",
    "csv_read = pd.read_csv(csv_file);\n",
    "json_read = pd.read_json(json_file);\n",
    "\n",
    "# Variable(s)\n",
    "character_id = 1;\n",
    "character_name = json_read['data'][character_id]['name'];\n",
    "columns = [\n",
    "    't1_champ1id', 't1_champ2id', 't1_champ3id', 't1_champ4id', 't1_champ5id', \n",
    "    't2_champ1id', 't2_champ2id', 't2_champ3id', 't2_champ4id', 't2_champ5id'\n",
    "];\n",
    "games_inc = 0;\n",
    "\n",
    "# For loop\n",
    "for index, row in csv_read.iterrows():\n",
    "    if character_id in row[columns].values:\n",
    "        games_inc = games_inc + 1;\n",
    "\n",
    "# Render\n",
    "print(\"Le personnage \" + character_name + \" a joué \" + str(games_inc) + \" parties.\");"
   ]
  },
  {
   "cell_type": "markdown",
   "metadata": {},
   "source": [
    "<font color=\"lightblue\">**Partie 05:** <font color=\"white\">Utilisation du Json 02<br>\n",
    "<font color=\"lightblue\">**Objectif:** <font color=\"white\">Ce code permet de récupérer le nom du champion en utilisant un input permettant de taper son ID. (Vérification si l'ID est valide)"
   ]
  },
  {
   "cell_type": "code",
   "execution_count": null,
   "metadata": {},
   "outputs": [],
   "source": [
    "# Import(s)\n",
    "import pandas as pd;\n",
    "import numpy as np;\n",
    "\n",
    "# Utils variable(s)\n",
    "csv_file = 'lol_ranked_games.csv'; \n",
    "json_file = 'champion_info.json';\n",
    "\n",
    "csv_read = pd.read_csv(csv_file);\n",
    "json_read = pd.read_json(json_file);\n",
    "\n",
    "# Variable(s)\n",
    "character_id = int(input(\"Saisissez l'ID du champion: \")); # Input of the character id\n",
    "\n",
    "# Check if the entered ID is valid\n",
    "if character_id not in json_read['data'].keys():\n",
    "    raise ValueError(\"L'ID \" + str(character_id) + \" n'existe pas dans la liste des champions.\");\n",
    "\n",
    "# Character variable(s)\n",
    "character_name = json_read['data'][character_id]['name']; # Get the character name based on the ID\n",
    "games_inc = 0; # Amount of games\n",
    "\n",
    "# Table varaible(s)\n",
    "columns = [\n",
    "    't1_champ1id', 't1_champ2id', 't1_champ3id', 't1_champ4id', 't1_champ5id', \n",
    "    't2_champ1id', 't2_champ2id', 't2_champ3id', 't2_champ4id', 't2_champ5id'\n",
    "];\n",
    "\n",
    "# For loop\n",
    "for index, row in csv_read.iterrows():\n",
    "    if character_id in row[columns].values:\n",
    "        games_inc = games_inc + 1;\n",
    "\n",
    "# Render\n",
    "print(\"Le personnage \" + character_name + \" (ID: \" + str(character_id) + \") a joué \" + str(games_inc) + \" parties.\");"
   ]
  },
  {
   "cell_type": "markdown",
   "metadata": {},
   "source": [
    "<font color=\"lightblue\">**Partie 06:** <font color=\"white\">Utilisation du Json 03<br>\n",
    "<font color=\"lightblue\">**Objectif:** <font color=\"white\">Code similaire à l'ancien, cependant celui-ci permet de rechercher un champion par son ID <ins>et</ins> son nom."
   ]
  },
  {
   "cell_type": "code",
   "execution_count": null,
   "metadata": {},
   "outputs": [],
   "source": [
    "# Import(s)\n",
    "import pandas as pd;\n",
    "import numpy as np;\n",
    "\n",
    "# Utils variable(s)\n",
    "csv_file = 'lol_ranked_games.csv'; \n",
    "json_file = 'champion_info.json';\n",
    "\n",
    "csv_read = pd.read_csv(csv_file);\n",
    "json_read = pd.read_json(json_file);\n",
    "\n",
    "# Variable(s)\n",
    "searched_character = input(\"Saisissez l'ID ou le nom du champion: \"); # Input of the character infos (id or name)\n",
    "character_id = searched_character;\n",
    "\n",
    "# Check if the entered ID/name is valid\n",
    "if character_id.isdigit(): # Check if the current input is digit (ID) \n",
    "    if int(character_id) not in json_read['data'].keys(): # Check though the json table to see if the current ID is valid \n",
    "        raise ValueError(\"L'ID \" + str(character_id) + \" n'existe pas dans la liste des champions.\"); # Raise an error if not (and stop the code)\n",
    "else: # If the entered input isn't a digit\n",
    "    character_name = searched_character; \n",
    "    match_id = None; \n",
    "\n",
    "    # Loop through the json file using key->value \n",
    "    for k, v in json_read['data'].items(): \n",
    "        if v['name'] == character_name: # Check on each lines if the \"name\" variable is equal to the entered name\n",
    "            match_id = int(k); # Then, get the corresponding ID \n",
    "            break; # Close the loop\n",
    "    \n",
    "    # If not found, then raise an error (using raise will quit the process)\n",
    "    if match_id is None:\n",
    "        raise ValueError(\"Le champion \" + character_name + \" n'existe pas dans la liste.\");\n",
    "    \n",
    "    # Put the correct ID to the \"character_id\" variable\n",
    "    character_id = match_id;\n",
    "\n",
    "# Character variable(s)\n",
    "if searched_character.isdigit():\n",
    "    character_name = json_read['data'][int(searched_character)]['name']; # Else, get the character name based on the ID\n",
    "else:\n",
    "    character_name = searched_character;\n",
    "\n",
    "games_inc = 0; # Amount of games\n",
    "\n",
    "# Table varaible(s)\n",
    "columns = [\n",
    "    't1_champ1id', 't1_champ2id', 't1_champ3id', 't1_champ4id', 't1_champ5id', \n",
    "    't2_champ1id', 't2_champ2id', 't2_champ3id', 't2_champ4id', 't2_champ5id'\n",
    "];\n",
    "\n",
    "# For loop\n",
    "for index, row in csv_read.iterrows():\n",
    "    if int(character_id) in row[columns].values:\n",
    "        games_inc = games_inc + 1;\n",
    "\n",
    "# Render\n",
    "print(\"Le personnage \" + character_name + \" (ID: \" + str(character_id) + \") a joué \" + str(games_inc) + \" parties.\");"
   ]
  },
  {
   "cell_type": "markdown",
   "metadata": {},
   "source": [
    "<font color=\"lightblue\">**Partie 07:** <font color=\"white\">Récupération de statistique<br>\n",
    "<font color=\"lightblue\">**Objectif:** <font color=\"white\">Via ce code, je vais récupérer le nombre de parties jouées, dont celles gagnées et celles perdues et en déduire un pourcentage de victoire *(winrate)* selon cela. (Optimisation du code au niveau de la boucle, ajout de +83% de rapidité)"
   ]
  },
  {
   "cell_type": "code",
   "execution_count": null,
   "metadata": {},
   "outputs": [],
   "source": [
    "# Import(s)\n",
    "import pandas as pd;\n",
    "import numpy as np;\n",
    "\n",
    "# Utils variable(s)\n",
    "csv_file = 'lol_ranked_games.csv'; \n",
    "json_file = 'champion_info.json';\n",
    "\n",
    "csv_read = pd.read_csv(csv_file);\n",
    "json_read = pd.read_json(json_file);\n",
    "\n",
    "# Variable(s)\n",
    "searched_character = input(\"Saisissez l'ID ou le nom du champion: \"); # Input of the character infos (id or name)\n",
    "character_id = searched_character;\n",
    "\n",
    "# Check if the entered ID/name is valid\n",
    "if character_id.isdigit(): # Check if the current input is digit (ID) \n",
    "    if int(character_id) not in json_read['data'].keys(): # Check though the json table to see if the current ID is valid \n",
    "        raise ValueError(\"L'ID \" + str(character_id) + \" n'existe pas dans la liste des champions.\"); # Raise an error if not (and stop the code)\n",
    "else: # If the entered input isn't a digit\n",
    "    character_name = searched_character; \n",
    "    match_id = None; \n",
    "\n",
    "    # Loop through the json file using key->value \n",
    "    for k, v in json_read['data'].items(): \n",
    "        if v['name'] == character_name: # Check on each lines if the \"name\" variable is equal to the entered name\n",
    "            match_id = int(k); # Then, get the corresponding ID \n",
    "            break; # Close the loop\n",
    "    \n",
    "    # If not found, then raise an error (using raise will quit the process)\n",
    "    if match_id is None:\n",
    "        raise ValueError(\"Le champion \" + character_name + \" n'existe pas dans la liste.\");\n",
    "    \n",
    "    # Put the correct ID to the \"character_id\" variable\n",
    "    character_id = match_id;\n",
    "\n",
    "# Character condition(s)\n",
    "if searched_character.isdigit():\n",
    "    character_name = json_read['data'][int(searched_character)]['name']; # Else, get the character name based on the ID\n",
    "else:\n",
    "    character_name = searched_character;\n",
    "\n",
    "# Character variable(s)\n",
    "games_inc = 0; # Amount of games\n",
    "wins_inc = 0; # Amount of wins\n",
    "loses_inc = 0; # Amount of loses\n",
    "character_winrate = 0;\n",
    "\n",
    "# Table variable(s)\n",
    "columns = [\n",
    "    't1_champ1id', 't1_champ2id', 't1_champ3id', 't1_champ4id', 't1_champ5id', \n",
    "    't2_champ1id', 't2_champ2id', 't2_champ3id', 't2_champ4id', 't2_champ5id'\n",
    "];\n",
    "\n",
    "# For loop\n",
    "for index, row in csv_read.iterrows():\n",
    "    for column in columns:\n",
    "        if int(character_id) == row[column]:\n",
    "            # Variable(s)\n",
    "            character_team = int(column.split('_')[0][1]);\n",
    "            winner_team = int(row['winner']);\n",
    "\n",
    "            # Increment(s)\n",
    "            games_inc = games_inc + 1;\n",
    "\n",
    "            # Condition(s)\n",
    "            if character_team == winner_team:\n",
    "                wins_inc = wins_inc + 1;\n",
    "            else:\n",
    "                loses_inc = loses_inc + 1;\n",
    "\n",
    "# Math(s)\n",
    "character_winrate = (wins_inc / (wins_inc + loses_inc)) * 100;\n",
    " \n",
    "# Render\n",
    "print(\"Informations concernant le personnage \" + character_name + \" (ID: \" + str(character_id) + \"):\");\n",
    "print(\"- Nombre de victoires: \" + str(wins_inc));\n",
    "print(\"- Nombre de défaites: \" + str(loses_inc));\n",
    "print(\"- Nombre total de parties: \" + str(games_inc));\n",
    "print(\"- Pourcentage de winrate: \" + str(round(character_winrate, 1)) + \"%\");"
   ]
  },
  {
   "cell_type": "markdown",
   "metadata": {},
   "source": [
    "<font color=\"lightblue\">**Partie 08:** <font color=\"white\">Utilisation de Matplotlib<br>\n",
    "<font color=\"lightblue\">**Objectif:** <font color=\"white\">L'objectif sera de réaliser un graphique montrant le pourcentage de winrate d'un personnage à travers les mois."
   ]
  },
  {
   "cell_type": "code",
   "execution_count": null,
   "metadata": {},
   "outputs": [
    {
     "name": "stdout",
     "output_type": "stream",
     "text": [
      "Informations concernant le personnage Yasuo (ID: 157):\n",
      "- Nombre de victoires: 3,948\n",
      "- Nombre de défaites: 3,924\n",
      "- Nombre total de parties: 7,872\n",
      "- Pourcentage de winrate (all-time): 50.2%\n"
     ]
    },
    {
     "data": {
      "image/png": "[encoded data removed]",
      "text/plain": [
       "<Figure size 1500x600 with 1 Axes>"
      ]
     },
     "metadata": {},
     "output_type": "display_data"
    },
    {
     "name": "stdout",
     "output_type": "stream",
     "text": [
      "Précision sur le winrate au fil des mois:\n",
      "Janvier: 49.7%\n",
      "Février: 52.2%\n",
      "Mars: 47.5%\n",
      "Avril: 50.7%\n",
      "Mai: 52.1%\n",
      "Juin: 51.0%\n",
      "Juillet: 51.7%\n",
      "Août: 48.9%\n",
      "Septembre: 49.8%\n",
      "Octobre: 49.6%\n",
      "Novembre: 48.8%\n",
      "Décembre: 50.2%\n",
      "\n",
      "La période de pic concerne le mois de février avec 52.2%\n",
      "La période de creux concerne le mois de mars avec 47.5%\n"
     ]
    }
   ],
   "source": [
    "# Import(s)\n",
    "import pandas as pd;\n",
    "import numpy as np;\n",
    "import matplotlib.pyplot as plt;\n",
    "import time;\n",
    "\n",
    "# Utils variable(s)\n",
    "csv_file = 'lol_ranked_games.csv'; \n",
    "json_file = 'champion_info.json';\n",
    "\n",
    "csv_read = pd.read_csv(csv_file);\n",
    "json_read = pd.read_json(json_file);\n",
    "\n",
    "# Variable(s)\n",
    "searched_character = input(\"Saisissez l'ID ou le nom du champion: \"); # Input of the character infos (id or name)\n",
    "character_id = searched_character;\n",
    "\n",
    "# Check if the entered ID/name is valid\n",
    "if character_id.isdigit(): # Check if the current input is digit (ID) \n",
    "    if int(character_id) not in json_read['data'].keys(): # Check though the json table to see if the current ID is valid \n",
    "        raise ValueError(\"L'ID \" + str(character_id) + \" n'existe pas dans la liste des champions.\"); # Raise an error if not (and stop the code)\n",
    "else: # If the entered input isn't a digit\n",
    "    character_name = searched_character.capitalize(); \n",
    "    match_id = None; \n",
    "\n",
    "    # Loop through the json file using key->value \n",
    "    for k, v in json_read['data'].items(): \n",
    "        if v['name'] == character_name: # Check on each lines if the \"name\" variable is equal to the entered name\n",
    "            match_id = int(k); # Then, get the corresponding ID \n",
    "            break; # Close the loop\n",
    "    \n",
    "    # If not found, then raise an error (using raise will quit the process)\n",
    "    if match_id is None:\n",
    "        raise ValueError(\"Le champion \" + character_name + \" n'existe pas dans la liste.\");\n",
    "    \n",
    "    # Put the correct ID to the \"character_id\" variable\n",
    "    character_id = match_id;\n",
    "\n",
    "# Character condition(s)\n",
    "if searched_character.isdigit():\n",
    "    character_name = json_read['data'][int(searched_character)]['name']; # Else, get the character name based on the ID\n",
    "else:\n",
    "    character_name = searched_character.capitalize();\n",
    "\n",
    "# Character variable(s)\n",
    "games_inc = 0; # Amount of games\n",
    "winrate_inc = 0; # Winrate state\n",
    "wins_inc = 0; # Amount of wins\n",
    "loses_inc = 0; # Amount of loses\n",
    "character_winrate = 0;\n",
    "\n",
    "# Table variable(s)\n",
    "columns = [\n",
    "    't1_champ1id', 't1_champ2id', 't1_champ3id', 't1_champ4id', 't1_champ5id', \n",
    "    't2_champ1id', 't2_champ2id', 't2_champ3id', 't2_champ4id', 't2_champ5id'\n",
    "];\n",
    "months_x = [\n",
    "    'Janvier', 'Février', 'Mars', 'Avril',\n",
    "    'Mai', 'Juin', 'Juillet', 'Août', \n",
    "    'Septembre', 'Octobre', 'Novembre', 'Décembre'\n",
    "];\n",
    "months = [0, 1, 2, 3, 4, 5, 6, 7, 8, 9, 10, 11];\n",
    "games_infos_per_months = [ # Affichage des victoires et des défaites triées par mois\n",
    "    [0, 0], [0, 0], [0, 0], [0, 0], # Janvier ; Février ; Mars ; Avril\n",
    "    [0, 0], [0, 0], [0, 0], [0, 0], # Mai ; Juin ; Juillet ; Août \n",
    "    [0, 0], [0, 0], [0, 0], [0, 0]  # Septembre ; Octobre ; Novembre ; Décembre\n",
    "];\n",
    "winrates = [];\n",
    "\n",
    "# For loop\n",
    "for index, row in csv_read.iterrows():\n",
    "    for column in columns:\n",
    "        if int(character_id) == row[column]:\n",
    "            # Variable(s)\n",
    "            character_team = int(column.split('_')[0][1]);\n",
    "            winner_team = int(row['winner']);\n",
    "            creation_time = int(row['creationTime']);\n",
    "            game_month = int(time.strftime(\"%m\", time.localtime(creation_time)));\n",
    "\n",
    "            # Increment(s)\n",
    "            games_inc = games_inc + 1;\n",
    "\n",
    "            # Condition(s)\n",
    "            if character_team == winner_team:\n",
    "                wins_inc = wins_inc + 1;\n",
    "                games_infos_per_months[game_month - 1][0] = games_infos_per_months[game_month - 1][0] + 1; # Add a win to the concerned month\n",
    "            else:\n",
    "                loses_inc = loses_inc + 1;\n",
    "                games_infos_per_months[game_month - 1][1] = games_infos_per_months[game_month - 1][1] + 1; # Add a defeat to the concerned month\n",
    "\n",
    "# Math(s)\n",
    "character_global_winrate = (wins_inc / (wins_inc + loses_inc)) * 100; # Calculate the all-time winrate of 2017\n",
    "for game_info in games_infos_per_months: # -> For loop to calculate every winrate of months\n",
    "    winrates.append((game_info[0] / (game_info[0] + game_info[1])) * 100);\n",
    "\n",
    "# 1st print render\n",
    "print(\"Informations concernant le personnage \" + character_name + \" (ID: \" + str(character_id) + \"):\");\n",
    "print(\"- Nombre de victoires: \" + str(\"{:,}\".format(wins_inc)));\n",
    "print(\"- Nombre de défaites: \" + str(\"{:,}\".format(loses_inc)));\n",
    "print(\"- Nombre total de parties: \" + str(\"{:,}\".format(games_inc)));\n",
    "print(\"- Pourcentage de winrate (all-time): \" + str(\"{:,}\".format(round(character_global_winrate, 1))) + \"%\");\n",
    "\n",
    "# Graphic render\n",
    "plt.figure(figsize=(15, 6));\n",
    "plt.plot(months, winrates);\n",
    "plt.xticks(months, months_x);\n",
    "plt.xlabel('Mois');\n",
    "plt.ylabel('Winrate (%)');\n",
    "plt.ylim(0,100);\n",
    "plt.title(f'Winrate du champion {character_name} au fil des mois (2017)');\n",
    "plt.show();\n",
    "\n",
    "# 2nd print render\n",
    "print(\"Précision sur le winrate au fil des mois:\");\n",
    "for winrate in winrates:\n",
    "    print(months_x[winrate_inc] + \": \" + str(round(winrate, 1)) + \"%\");\n",
    "    winrate_inc = winrate_inc + 1;\n",
    "\n",
    "print(\"\\nLa période de pic concerne le mois de \" + months_x[winrates.index(max(winrates))].lower() + \" avec \" + str(round(max(winrates), 1)) + \"%\");\n",
    "print(\"La période de creux concerne le mois de \" + months_x[winrates.index(min(winrates))].lower() + \" avec \" + str(round(min(winrates), 1)) + \"%\");"
   ]
  },
  {
   "cell_type": "code",
   "execution_count": null,
   "metadata": {},
   "outputs": [],
   "source": []
  },
  {
   "cell_type": "code",
   "execution_count": null,
   "metadata": {},
   "outputs": [],
   "source": []
  },
  {
   "cell_type": "markdown",
   "metadata": {},
   "source": [
    "<font size=\"4\">Projet: Wonder Trade Analysis<br><br>\n",
    "<font size=\"3\">**Problématique:** LA_PROBLEMATIQUE<br>\n",
    "<font size=\"3\">**Membre attitré:** Ewen B."
   ]
  },
  {
   "cell_type": "markdown",
   "metadata": {},
   "source": [
    "<font color=\"lightblue\">**Partie 01:** <font color=\"white\">Importation(s)<br>\n",
    "<font color=\"lightblue\">**Objectif:** <font color=\"white\">Installation des dépendances requises *(numpy et pandas)*"
   ]
  },
  {
   "cell_type": "code",
   "execution_count": null,
   "metadata": {},
   "outputs": [
    {
     "name": "stdout",
     "output_type": "stream",
     "text": [
      "Collecting numpy\n",
      "  Downloading numpy-1.24.2-cp38-cp38-manylinux_2_17_x86_64.manylinux2014_x86_64.whl (17.3 MB)\n",
      "\u001b[2K     \u001b[90m━━━━━━━━━━━━━━━━━━━━━━━━━━━━━━━━━━━━━━━━\u001b[0m \u001b[32m17.3/17.3 MB\u001b[0m \u001b[31m15.0 MB/s\u001b[0m eta \u001b[36m0:00:00\u001b[0m00:01\u001b[0m00:01\u001b[0m\n",
      "\u001b[?25hInstalling collected packages: numpy\n",
      "Successfully installed numpy-1.24.2\n",
      "\n",
      "\u001b[1m[\u001b[0m\u001b[34;49mnotice\u001b[0m\u001b[1;39;49m]\u001b[0m\u001b[39;49m A new release of pip available: \u001b[0m\u001b[31;49m22.3.1\u001b[0m\u001b[39;49m -> \u001b[0m\u001b[32;49m23.0.1\u001b[0m\n",
      "\u001b[1m[\u001b[0m\u001b[34;49mnotice\u001b[0m\u001b[1;39;49m]\u001b[0m\u001b[39;49m To update, run: \u001b[0m\u001b[32;49mpip install --upgrade pip\u001b[0m\n",
      "Collecting pandas\n",
      "  Downloading pandas-1.5.3-cp38-cp38-manylinux_2_17_x86_64.manylinux2014_x86_64.whl (12.2 MB)\n",
      "\u001b[2K     \u001b[90m━━━━━━━━━━━━━━━━━━━━━━━━━━━━━━━━━━━━━━━━\u001b[0m \u001b[32m12.2/12.2 MB\u001b[0m \u001b[31m97.9 MB/s\u001b[0m eta \u001b[36m0:00:00\u001b[0m00:01\u001b[0m00:01\u001b[0m\n",
      "\u001b[?25hRequirement already satisfied: python-dateutil>=2.8.1 in /home/gitpod/.pyenv/versions/3.8.16/lib/python3.8/site-packages (from pandas) (2.8.2)\n",
      "Collecting pytz>=2020.1\n",
      "  Downloading pytz-2022.7.1-py2.py3-none-any.whl (499 kB)\n",
      "\u001b[2K     \u001b[90m━━━━━━━━━━━━━━━━━━━━━━━━━━━━━━━━━━━━━━\u001b[0m \u001b[32m499.4/499.4 kB\u001b[0m \u001b[31m66.4 MB/s\u001b[0m eta \u001b[36m0:00:00\u001b[0m\n",
      "\u001b[?25hRequirement already satisfied: numpy>=1.20.3 in /home/gitpod/.pyenv/versions/3.8.16/lib/python3.8/site-packages (from pandas) (1.24.2)\n",
      "Requirement already satisfied: six>=1.5 in /home/gitpod/.pyenv/versions/3.8.16/lib/python3.8/site-packages (from python-dateutil>=2.8.1->pandas) (1.16.0)\n",
      "Installing collected packages: pytz, pandas\n",
      "Successfully installed pandas-1.5.3 pytz-2022.7.1\n",
      "\n",
      "\u001b[1m[\u001b[0m\u001b[34;49mnotice\u001b[0m\u001b[1;39;49m]\u001b[0m\u001b[39;49m A new release of pip available: \u001b[0m\u001b[31;49m22.3.1\u001b[0m\u001b[39;49m -> \u001b[0m\u001b[32;49m23.0.1\u001b[0m\n",
      "\u001b[1m[\u001b[0m\u001b[34;49mnotice\u001b[0m\u001b[1;39;49m]\u001b[0m\u001b[39;49m To update, run: \u001b[0m\u001b[32;49mpip install --upgrade pip\u001b[0m\n",
      "Collecting matplotlib\n",
      "  Downloading matplotlib-3.7.0-cp38-cp38-manylinux_2_12_x86_64.manylinux2010_x86_64.whl (9.2 MB)\n",
      "\u001b[2K     \u001b[90m━━━━━━━━━━━━━━━━━━━━━━━━━━━━━━━━━━━━━━━━\u001b[0m \u001b[32m9.2/9.2 MB\u001b[0m \u001b[31m81.5 MB/s\u001b[0m eta \u001b[36m0:00:00\u001b[0m:00:01\u001b[0m00:01\u001b[0m\n",
      "\u001b[?25hCollecting contourpy>=1.0.1\n",
      "  Downloading contourpy-1.0.7-cp38-cp38-manylinux_2_17_x86_64.manylinux2014_x86_64.whl (300 kB)\n",
      "\u001b[2K     \u001b[90m━━━━━━━━━━━━━━━━━━━━━━━━━━━━━━━━━━━━━━\u001b[0m \u001b[32m300.0/300.0 kB\u001b[0m \u001b[31m73.5 MB/s\u001b[0m eta \u001b[36m0:00:00\u001b[0m\n",
      "\u001b[?25hCollecting pillow>=6.2.0\n",
      "  Downloading Pillow-9.4.0-cp38-cp38-manylinux_2_28_x86_64.whl (3.4 MB)\n",
      "\u001b[2K     \u001b[90m━━━━━━━━━━━━━━━━━━━━━━━━━━━━━━━━━━━━━━━━\u001b[0m \u001b[32m3.4/3.4 MB\u001b[0m \u001b[31m121.5 MB/s\u001b[0m eta \u001b[36m0:00:00\u001b[0m\n",
      "\u001b[?25hRequirement already satisfied: python-dateutil>=2.7 in /home/gitpod/.pyenv/versions/3.8.16/lib/python3.8/site-packages (from matplotlib) (2.8.2)\n",
      "Requirement already satisfied: numpy>=1.20 in /home/gitpod/.pyenv/versions/3.8.16/lib/python3.8/site-packages (from matplotlib) (1.24.2)\n",
      "Collecting fonttools>=4.22.0\n",
      "  Downloading fonttools-4.38.0-py3-none-any.whl (965 kB)\n",
      "\u001b[2K     \u001b[90m━━━━━━━━━━━━━━━━━━━━━━━━━━━━━━━━━━━━━\u001b[0m \u001b[32m965.4/965.4 kB\u001b[0m \u001b[31m105.4 MB/s\u001b[0m eta \u001b[36m0:00:00\u001b[0m\n",
      "\u001b[?25hCollecting kiwisolver>=1.0.1\n",
      "  Downloading kiwisolver-1.4.4-cp38-cp38-manylinux_2_5_x86_64.manylinux1_x86_64.whl (1.2 MB)\n",
      "\u001b[2K     \u001b[90m━━━━━━━━━━━━━━━━━━━━━━━━━━━━━━━━━━━━━━━━\u001b[0m \u001b[32m1.2/1.2 MB\u001b[0m \u001b[31m84.0 MB/s\u001b[0m eta \u001b[36m0:00:00\u001b[0m\n",
      "\u001b[?25hRequirement already satisfied: importlib-resources>=3.2.0 in /home/gitpod/.pyenv/versions/3.8.16/lib/python3.8/site-packages (from matplotlib) (5.10.2)\n",
      "Collecting cycler>=0.10\n",
      "  Downloading cycler-0.11.0-py3-none-any.whl (6.4 kB)\n",
      "Requirement already satisfied: packaging>=20.0 in /home/gitpod/.pyenv/versions/3.8.16/lib/python3.8/site-packages (from matplotlib) (23.0)\n",
      "Collecting pyparsing>=2.3.1\n",
      "  Downloading pyparsing-3.0.9-py3-none-any.whl (98 kB)\n",
      "\u001b[2K     \u001b[90m━━━━━━━━━━━━━━━━━━━━━━━━━━━━━━━━━━━━━━━━\u001b[0m \u001b[32m98.3/98.3 kB\u001b[0m \u001b[31m29.5 MB/s\u001b[0m eta \u001b[36m0:00:00\u001b[0m\n",
      "\u001b[?25hRequirement already satisfied: zipp>=3.1.0 in /home/gitpod/.pyenv/versions/3.8.16/lib/python3.8/site-packages (from importlib-resources>=3.2.0->matplotlib) (3.11.0)\n",
      "Requirement already satisfied: six>=1.5 in /home/gitpod/.pyenv/versions/3.8.16/lib/python3.8/site-packages (from python-dateutil>=2.7->matplotlib) (1.16.0)\n",
      "Installing collected packages: pyparsing, pillow, kiwisolver, fonttools, cycler, contourpy, matplotlib\n",
      "Successfully installed contourpy-1.0.7 cycler-0.11.0 fonttools-4.38.0 kiwisolver-1.4.4 matplotlib-3.7.0 pillow-9.4.0 pyparsing-3.0.9\n",
      "\n",
      "\u001b[1m[\u001b[0m\u001b[34;49mnotice\u001b[0m\u001b[1;39;49m]\u001b[0m\u001b[39;49m A new release of pip available: \u001b[0m\u001b[31;49m22.3.1\u001b[0m\u001b[39;49m -> \u001b[0m\u001b[32;49m23.0.1\u001b[0m\n",
      "\u001b[1m[\u001b[0m\u001b[34;49mnotice\u001b[0m\u001b[1;39;49m]\u001b[0m\u001b[39;49m To update, run: \u001b[0m\u001b[32;49mpip install --upgrade pip\u001b[0m\n"
     ]
    }
   ],
   "source": [
    "import sys\n",
    "\n",
    "!{sys.executable} -m pip install numpy\n",
    "!{sys.executable} -m pip install pandas\n",
    "!{sys.executable} -m pip install matplotlib"
   ]
  },
  {
   "cell_type": "markdown",
   "metadata": {},
   "source": [
    "<font color=\"lightblue\">**Partie 02:** <font color=\"white\">Explication de l'objectif et de la problématique<br>\n",
    "<font color=\"lightblue\">**Objectif:** <font color=\"white\">Trouver le winrate de **Yasuo** en fonction de la prise du premier dragon\n"
   ]
  },
  {
   "cell_type": "markdown",
   "metadata": {},
   "source": [
    "<font color=\"white\" size=\"3\"> Mon objectif principal est donc de fournir le winrate du personne **\"Yasuo\"**, en fonction de la prise du premier Herald. On peut expliquer tout ça en termes plus simples : **On doit fournir le pourcentage de victoire du personnage Yasuo quand son équipe capture le premier \"Dragon\"**, une créature disponible dans le jeu qui fournit un bonus que l'équipe qui a tué la créature en première pour aider dans la partie.\n",
    "\n",
    "<br>\n",
    "    \n",
    "<font color=\"white\" size=\"3\"> **On peut pousser ce sujet à ses limites facilement**, on peut appliquer cet objectif de trouver le taux de victoire (winrate) de n'importe quel champion fourni par l'utilisateur en fonction  du premier herald prit.\n",
    "\n",
    "\n",
    "\n"
   ]
  },
  {
   "cell_type": "markdown",
   "metadata": {},
   "source": [
    "<font color=\"lightblue\"> **Partie 03:** <font color=\"white\"> Comprendre le tableau <br>\n",
    "<font color=\"lightblue\"> **Objectif:** <font color=\"white\"> Afficher les colonnes du tableau dont on dispose ainsi quelques valeurs."
   ]
  },
  {
   "cell_type": "code",
   "execution_count": null,
   "metadata": {},
   "outputs": [
    {
     "name": "stdout",
     "output_type": "stream",
     "text": [
      "Index(['gameId', 'creationTime', 'gameDuration', 'seasonId', 'winner',\n",
      "       'firstBlood', 'firstTower', 'firstInhibitor', 'firstBaron',\n",
      "       'firstDragon', 'firstRiftHerald', 't1_champ1id', 't1_champ1_sum1',\n",
      "       't1_champ1_sum2', 't1_champ2id', 't1_champ2_sum1', 't1_champ2_sum2',\n",
      "       't1_champ3id', 't1_champ3_sum1', 't1_champ3_sum2', 't1_champ4id',\n",
      "       't1_champ4_sum1', 't1_champ4_sum2', 't1_champ5id', 't1_champ5_sum1',\n",
      "       't1_champ5_sum2', 't1_towerKills', 't1_inhibitorKills', 't1_baronKills',\n",
      "       't1_dragonKills', 't1_riftHeraldKills', 't1_ban1', 't1_ban2', 't1_ban3',\n",
      "       't1_ban4', 't1_ban5', 't2_champ1id', 't2_champ1_sum1', 't2_champ1_sum2',\n",
      "       't2_champ2id', 't2_champ2_sum1', 't2_champ2_sum2', 't2_champ3id',\n",
      "       't2_champ3_sum1', 't2_champ3_sum2', 't2_champ4id', 't2_champ4_sum1',\n",
      "       't2_champ4_sum2', 't2_champ5id', 't2_champ5_sum1', 't2_champ5_sum2',\n",
      "       't2_towerKills', 't2_inhibitorKills', 't2_baronKills', 't2_dragonKills',\n",
      "       't2_riftHeraldKills', 't2_ban1', 't2_ban2', 't2_ban3', 't2_ban4',\n",
      "       't2_ban5'],\n",
      "      dtype='object')\n"
     ]
    }
   ],
   "source": [
    "import pandas as pd\n",
    "\n",
    "# Lire le fichier\n",
    "tab = pd.read_csv('lol_ranked_games.csv')\n",
    "\n",
    "# Afficher les noms de colonnes du tableau\n",
    "print(tab.columns)\n"
   ]
  },
  {
   "cell_type": "markdown",
   "metadata": {},
   "source": [
    "<font color=\"white\" size=\"3\"> L'objectif de ce premier code est simple, on cherche à comprendre mieux le fichier CSV qu'on a choisi. Nous désirons donc voir toutes les colonnes pour voir lesquelles peuvent nous aider à atteindre notre objectif final.\n",
    "\n",
    "<br>\n",
    "    \n",
    "<font color=\"white\" size=\"3\"> Nous pouvons donc en conclure que nous avons à disposition pour chaque partie : \n",
    "- ID de la partie : ID unique de la partie\n",
    "- Creation Time : Temps écoulé depuis la partie, en secondes\n",
    "- Game Duration : Durée de la partie\n",
    "- Season ID : ID de la saison\n",
    "- Winner : Équipe gagnante\n",
    "- First Blood : Équipe qui fait couler le premier sang.\n",
    "- TxChamp : Champions d'une équipe\n",
    "...\n",
    "\n",
    "Les colonnes qui vont nous intéresser particulièrement sont donc : \n",
    "- Champion (Champion utilisé)\n",
    "- FirstDragon (Pour savoir qui a prit le premier dragon)\n",
    "- Winner (Pour savoir qui a gagné)"
   ]
  },
  {
   "cell_type": "markdown",
   "metadata": {},
   "source": [
    "<font color=\"lightblue\"> **Partie 04:** <font color=\"white\"> Compléter l'objectif principal <br>\n",
    "<font color=\"lightblue\"> **Objectif:** <font color=\"white\"> Afficher le winrate de Yasuo en fonction du premier dragon tué."
   ]
  },
  {
   "cell_type": "code",
   "execution_count": null,
   "metadata": {},
   "outputs": [
    {
     "name": "stdout",
     "output_type": "stream",
     "text": [
      "Winrate du champion avec l'id 157 en fonction du premier dragon tué : 86.32%\n"
     ]
    }
   ],
   "source": [
    "import pandas as pd\n",
    "import numpy as np\n",
    "\n",
    "# Charger le fichier\n",
    "df = pd.read_csv(\"lol_ranked_games.csv\")\n",
    "\n",
    "# Calculer le nombre total de parties où le premier dragon est tué pour chaque équipe\n",
    "total_games_t1_first_dragon = len(df[df['firstDragon'] == 1])\n",
    "total_games_t2_first_dragon = len(df[df['firstDragon'] == 2])\n",
    "\n",
    "# Calculer le nombre de parties remportées par chaque équipe où le premier dragon est tué\n",
    "wins_t1_first_dragon = len(df[(df['firstDragon'] == 1) & (df['winner'] == 1)])\n",
    "wins_t2_first_dragon = len(df[(df['firstDragon'] == 2) & (df['winner'] == 2)])\n",
    "\n",
    "# Calculer le winrate du champion avec l'id 157 en fonction du premier dragon tué\n",
    "champ_id = 157\n",
    "total_games_champ_first_dragon = len(df[(df['t1_champ1id'] == champ_id) | (df['t1_champ2id'] == champ_id) |\n",
    "                                        (df['t1_champ3id'] == champ_id) | (df['t1_champ4id'] == champ_id) |\n",
    "                                        (df['t1_champ5id'] == champ_id) | (df['t2_champ1id'] == champ_id) |\n",
    "                                        (df['t2_champ2id'] == champ_id) | (df['t2_champ3id'] == champ_id) |\n",
    "                                        (df['t2_champ4id'] == champ_id) | (df['t2_champ5id'] == champ_id)])\n",
    "\n",
    "wins_champ_first_dragon = len(df[(df['t1_champ1id'] == champ_id) | (df['t1_champ2id'] == champ_id) |\n",
    "                                 (df['t1_champ3id'] == champ_id) | (df['t1_champ4id'] == champ_id) |\n",
    "                                 (df['t1_champ5id'] == champ_id) & (df['firstDragon'] == 1) & (df['winner'] == 1) |\n",
    "                                 (df['t2_champ1id'] == champ_id) | (df['t2_champ2id'] == champ_id) |\n",
    "                                 (df['t2_champ3id'] == champ_id) | (df['t2_champ4id'] == champ_id) |\n",
    "                                 (df['t2_champ5id'] == champ_id) & (df['firstDragon'] == 2) & (df['winner'] == 2)])\n",
    "\n",
    "winrate_champ_first_dragon = wins_champ_first_dragon / total_games_champ_first_dragon\n",
    "\n",
    "# Afficher le winrate\n",
    "print(\"Winrate du champion avec l'id\", champ_id, \"en fonction du premier dragon tué : {:.2%}\".format(winrate_champ_first_dragon))\n"
   ]
  },
  {
   "cell_type": "markdown",
   "metadata": {},
   "source": [
    "<font color=\"lightblue\"> **Partie 05:** <font color=\"white\"> Représentation graphique <br>\n",
    "<font color=\"lightblue\"> **Objectif:** <font color=\"white\"> Afficher le winrate de Yasuo en fonction du premier dragon tué. (Graphique)"
   ]
  },
  {
   "cell_type": "code",
   "execution_count": null,
   "metadata": {},
   "outputs": [
    {
     "name": "stdout",
     "output_type": "stream",
     "text": [
      "Winrate du champion avec l'id 157 en fonction du premier dragon tué : 86.32%\n",
      "Représention graphique :\n",
      "\n"
     ]
    },
    {
     "data": {
      "image/png": "[encoded data removed]",
      "text/plain": [
       "<Figure size 500x500 with 1 Axes>"
      ]
     },
     "metadata": {},
     "output_type": "display_data"
    }
   ],
   "source": [
    "import pandas as pd\n",
    "import numpy as np\n",
    "import matplotlib as plt\n",
    "\n",
    "# Charger le fichier\n",
    "df = pd.read_csv(\"lol_ranked_games.csv\")\n",
    "\n",
    "# Calculer le nombre total de parties où le premier dragon est tué pour chaque équipe\n",
    "total_games_t1_first_dragon = len(df[df['firstDragon'] == 1])\n",
    "total_games_t2_first_dragon = len(df[df['firstDragon'] == 2])\n",
    "\n",
    "# Calculer le nombre de parties remportées par chaque équipe où le premier dragon est tué\n",
    "wins_t1_first_dragon = len(df[(df['firstDragon'] == 1) & (df['winner'] == 1)])\n",
    "wins_t2_first_dragon = len(df[(df['firstDragon'] == 2) & (df['winner'] == 2)])\n",
    "\n",
    "# Calculer le winrate du champion avec l'id 157 en fonction du premier dragon tué\n",
    "champ_id = 157\n",
    "total_games_champ_first_dragon = len(df[(df['t1_champ1id'] == champ_id) | (df['t1_champ2id'] == champ_id) |\n",
    "                                        (df['t1_champ3id'] == champ_id) | (df['t1_champ4id'] == champ_id) |\n",
    "                                        (df['t1_champ5id'] == champ_id) | (df['t2_champ1id'] == champ_id) |\n",
    "                                        (df['t2_champ2id'] == champ_id) | (df['t2_champ3id'] == champ_id) |\n",
    "                                        (df['t2_champ4id'] == champ_id) | (df['t2_champ5id'] == champ_id)])\n",
    "\n",
    "wins_champ_first_dragon = len(df[(df['t1_champ1id'] == champ_id) | (df['t1_champ2id'] == champ_id) |\n",
    "                                 (df['t1_champ3id'] == champ_id) | (df['t1_champ4id'] == champ_id) |\n",
    "                                 (df['t1_champ5id'] == champ_id) & (df['firstDragon'] == 1) & (df['winner'] == 1) |\n",
    "                                 (df['t2_champ1id'] == champ_id) | (df['t2_champ2id'] == champ_id) |\n",
    "                                 (df['t2_champ3id'] == champ_id) | (df['t2_champ4id'] == champ_id) |\n",
    "                                 (df['t2_champ5id'] == champ_id) & (df['firstDragon'] == 2) & (df['winner'] == 2)])\n",
    "\n",
    "winrate_final = wins_champ_first_dragon / total_games_champ_first_dragon\n",
    "loserate_final = 100 - winrate_final\n",
    "\n",
    "# Afficher le winrate\n",
    "print(\"Winrate du champion avec l'id\", champ_id, \"en fonction du premier dragon tué : {:.2%}\".format(winrate_final))\n",
    "print(\"Représention graphique :\\n\")\n",
    "\n",
    "df2 = pd.DataFrame({'Winrate': [winrate_final, loserate_final],},\n",
    "                  index=['Loses', 'Wins'])\n",
    "\n",
    "plot = df2.plot.pie(y='Winrate', figsize=(5, 5))\n"
   ]
  },
  {
   "cell_type": "code",
   "execution_count": null,
   "metadata": {},
   "outputs": [],
   "source": []
  },
  {
   "cell_type": "code",
   "execution_count": null,
   "metadata": {},
   "outputs": [],
   "source": []
  },
  {
   "cell_type": "markdown",
   "metadata": {},
   "source": [
    "<font size=\"4\">Projet: Wonder Trade Analysis<br><br>\n",
    "<font size=\"3\">**Problématique:** Déterminer quel side gagne le plus, et les facteurs qui permettent ceci (Herald, Dragon)<br>\n",
    "<font size=\"3\">**Membre attitré:** Marien M."
   ]
  },
  {
   "cell_type": "markdown",
   "metadata": {},
   "source": [
    "<font color=\"lightblue\">**Partie 01:** <font color=\"white\">Importation(s)<br>\n",
    "<font color=\"lightblue\">**Objectif:** <font color=\"black\">Installation des dépendances requises *(numpy et pandas)*"
   ]
  },
  {
   "cell_type": "code",
   "execution_count": null,
   "metadata": {},
   "outputs": [
    {
     "name": "stdout",
     "output_type": "stream",
     "text": [
      "Requirement already satisfied: numpy in /home/gitpod/.pyenv/versions/3.8.16/lib/python3.8/site-packages (1.24.2)\n",
      "\n",
      "\u001b[1m[\u001b[0m\u001b[34;49mnotice\u001b[0m\u001b[1;39;49m]\u001b[0m\u001b[39;49m A new release of pip available: \u001b[0m\u001b[31;49m22.3.1\u001b[0m\u001b[39;49m -> \u001b[0m\u001b[32;49m23.0\u001b[0m\n",
      "\u001b[1m[\u001b[0m\u001b[34;49mnotice\u001b[0m\u001b[1;39;49m]\u001b[0m\u001b[39;49m To update, run: \u001b[0m\u001b[32;49mpip install --upgrade pip\u001b[0m\n",
      "Requirement already satisfied: pandas in /home/gitpod/.pyenv/versions/3.8.16/lib/python3.8/site-packages (1.5.3)\n",
      "Requirement already satisfied: python-dateutil>=2.8.1 in /home/gitpod/.pyenv/versions/3.8.16/lib/python3.8/site-packages (from pandas) (2.8.2)\n",
      "Requirement already satisfied: numpy>=1.20.3 in /home/gitpod/.pyenv/versions/3.8.16/lib/python3.8/site-packages (from pandas) (1.24.2)\n",
      "Requirement already satisfied: pytz>=2020.1 in /home/gitpod/.pyenv/versions/3.8.16/lib/python3.8/site-packages (from pandas) (2022.7.1)\n",
      "Requirement already satisfied: six>=1.5 in /home/gitpod/.pyenv/versions/3.8.16/lib/python3.8/site-packages (from python-dateutil>=2.8.1->pandas) (1.16.0)\n",
      "\n",
      "\u001b[1m[\u001b[0m\u001b[34;49mnotice\u001b[0m\u001b[1;39;49m]\u001b[0m\u001b[39;49m A new release of pip available: \u001b[0m\u001b[31;49m22.3.1\u001b[0m\u001b[39;49m -> \u001b[0m\u001b[32;49m23.0\u001b[0m\n",
      "\u001b[1m[\u001b[0m\u001b[34;49mnotice\u001b[0m\u001b[1;39;49m]\u001b[0m\u001b[39;49m To update, run: \u001b[0m\u001b[32;49mpip install --upgrade pip\u001b[0m\n",
      "Requirement already satisfied: matplotlib in /home/gitpod/.pyenv/versions/3.8.16/lib/python3.8/site-packages (3.7.0)\n",
      "Requirement already satisfied: pyparsing>=2.3.1 in /home/gitpod/.pyenv/versions/3.8.16/lib/python3.8/site-packages (from matplotlib) (3.0.9)\n",
      "Requirement already satisfied: contourpy>=1.0.1 in /home/gitpod/.pyenv/versions/3.8.16/lib/python3.8/site-packages (from matplotlib) (1.0.7)\n",
      "Requirement already satisfied: pillow>=6.2.0 in /home/gitpod/.pyenv/versions/3.8.16/lib/python3.8/site-packages (from matplotlib) (9.4.0)\n",
      "Requirement already satisfied: python-dateutil>=2.7 in /home/gitpod/.pyenv/versions/3.8.16/lib/python3.8/site-packages (from matplotlib) (2.8.2)\n",
      "Requirement already satisfied: fonttools>=4.22.0 in /home/gitpod/.pyenv/versions/3.8.16/lib/python3.8/site-packages (from matplotlib) (4.38.0)\n",
      "Requirement already satisfied: numpy>=1.20 in /home/gitpod/.pyenv/versions/3.8.16/lib/python3.8/site-packages (from matplotlib) (1.24.2)\n",
      "Requirement already satisfied: packaging>=20.0 in /home/gitpod/.pyenv/versions/3.8.16/lib/python3.8/site-packages (from matplotlib) (23.0)\n",
      "Requirement already satisfied: cycler>=0.10 in /home/gitpod/.pyenv/versions/3.8.16/lib/python3.8/site-packages (from matplotlib) (0.11.0)\n",
      "Requirement already satisfied: importlib-resources>=3.2.0 in /home/gitpod/.pyenv/versions/3.8.16/lib/python3.8/site-packages (from matplotlib) (5.10.2)\n",
      "Requirement already satisfied: kiwisolver>=1.0.1 in /home/gitpod/.pyenv/versions/3.8.16/lib/python3.8/site-packages (from matplotlib) (1.4.4)\n",
      "Requirement already satisfied: zipp>=3.1.0 in /home/gitpod/.pyenv/versions/3.8.16/lib/python3.8/site-packages (from importlib-resources>=3.2.0->matplotlib) (3.11.0)\n",
      "Requirement already satisfied: six>=1.5 in /home/gitpod/.pyenv/versions/3.8.16/lib/python3.8/site-packages (from python-dateutil>=2.7->matplotlib) (1.16.0)\n",
      "\n",
      "\u001b[1m[\u001b[0m\u001b[34;49mnotice\u001b[0m\u001b[1;39;49m]\u001b[0m\u001b[39;49m A new release of pip available: \u001b[0m\u001b[31;49m22.3.1\u001b[0m\u001b[39;49m -> \u001b[0m\u001b[32;49m23.0\u001b[0m\n",
      "\u001b[1m[\u001b[0m\u001b[34;49mnotice\u001b[0m\u001b[1;39;49m]\u001b[0m\u001b[39;49m To update, run: \u001b[0m\u001b[32;49mpip install --upgrade pip\u001b[0m\n"
     ]
    }
   ],
   "source": [
    "import sys\n",
    "\n",
    "!{sys.executable} -m pip install numpy\n",
    "!{sys.executable} -m pip install pandas\n",
    "!{sys.executable} -m pip install matplotlib"
   ]
  },
  {
   "cell_type": "code",
   "execution_count": null,
   "metadata": {},
   "outputs": [],
   "source": [
    "import numpy as np\n",
    "import pandas as pd\n",
    "import matplotlib.pyplot as mpl"
   ]
  },
  {
   "cell_type": "markdown",
   "metadata": {},
   "source": [
    "<font color=\"lightblue\">**Partie 02:** <font color=\"black\">Charger le fichier<br>\n",
    "<font color=\"lightblue\">**Objectif:** <font color=\"black\">Mettre le fichier CSV danq une variable, pouvoir l'afficher  *(avec pandas)*"
   ]
  },
  {
   "cell_type": "code",
   "execution_count": null,
   "metadata": {},
   "outputs": [
    {
     "data": {
      "text/html": [
       "<div>\n",
       "<style scoped>\n",
       "    .dataframe tbody tr th:only-of-type {\n",
       "        vertical-align: middle;\n",
       "    }\n",
       "\n",
       "    .dataframe tbody tr th {\n",
       "        vertical-align: top;\n",
       "    }\n",
       "\n",
       "    .dataframe thead th {\n",
       "        text-align: right;\n",
       "    }\n",
       "</style>\n",
       "<table border=\"1\" class=\"dataframe\">\n",
       "  <thead>\n",
       "    <tr style=\"text-align: right;\">\n",
       "      <th></th>\n",
       "      <th>gameId</th>\n",
       "      <th>creationTime</th>\n",
       "      <th>gameDuration</th>\n",
       "      <th>seasonId</th>\n",
       "      <th>winner</th>\n",
       "      <th>firstBlood</th>\n",
       "      <th>firstTower</th>\n",
       "      <th>firstInhibitor</th>\n",
       "      <th>firstBaron</th>\n",
       "      <th>firstDragon</th>\n",
       "      <th>...</th>\n",
       "      <th>t2_towerKills</th>\n",
       "      <th>t2_inhibitorKills</th>\n",
       "      <th>t2_baronKills</th>\n",
       "      <th>t2_dragonKills</th>\n",
       "      <th>t2_riftHeraldKills</th>\n",
       "      <th>t2_ban1</th>\n",
       "      <th>t2_ban2</th>\n",
       "      <th>t2_ban3</th>\n",
       "      <th>t2_ban4</th>\n",
       "      <th>t2_ban5</th>\n",
       "    </tr>\n",
       "  </thead>\n",
       "  <tbody>\n",
       "    <tr>\n",
       "      <th>0</th>\n",
       "      <td>3326086514</td>\n",
       "      <td>1504279457970</td>\n",
       "      <td>1949</td>\n",
       "      <td>9</td>\n",
       "      <td>1</td>\n",
       "      <td>2</td>\n",
       "      <td>1</td>\n",
       "      <td>1</td>\n",
       "      <td>1</td>\n",
       "      <td>1</td>\n",
       "      <td>...</td>\n",
       "      <td>5</td>\n",
       "      <td>0</td>\n",
       "      <td>0</td>\n",
       "      <td>1</td>\n",
       "      <td>1</td>\n",
       "      <td>114</td>\n",
       "      <td>67</td>\n",
       "      <td>43</td>\n",
       "      <td>16</td>\n",
       "      <td>51</td>\n",
       "    </tr>\n",
       "    <tr>\n",
       "      <th>1</th>\n",
       "      <td>3229566029</td>\n",
       "      <td>1497848803862</td>\n",
       "      <td>1851</td>\n",
       "      <td>9</td>\n",
       "      <td>1</td>\n",
       "      <td>1</td>\n",
       "      <td>1</td>\n",
       "      <td>1</td>\n",
       "      <td>0</td>\n",
       "      <td>1</td>\n",
       "      <td>...</td>\n",
       "      <td>2</td>\n",
       "      <td>0</td>\n",
       "      <td>0</td>\n",
       "      <td>0</td>\n",
       "      <td>0</td>\n",
       "      <td>11</td>\n",
       "      <td>67</td>\n",
       "      <td>238</td>\n",
       "      <td>51</td>\n",
       "      <td>420</td>\n",
       "    </tr>\n",
       "    <tr>\n",
       "      <th>2</th>\n",
       "      <td>3327363504</td>\n",
       "      <td>1504360103310</td>\n",
       "      <td>1493</td>\n",
       "      <td>9</td>\n",
       "      <td>1</td>\n",
       "      <td>2</td>\n",
       "      <td>1</td>\n",
       "      <td>1</td>\n",
       "      <td>1</td>\n",
       "      <td>2</td>\n",
       "      <td>...</td>\n",
       "      <td>2</td>\n",
       "      <td>0</td>\n",
       "      <td>0</td>\n",
       "      <td>1</td>\n",
       "      <td>0</td>\n",
       "      <td>157</td>\n",
       "      <td>238</td>\n",
       "      <td>121</td>\n",
       "      <td>57</td>\n",
       "      <td>28</td>\n",
       "    </tr>\n",
       "    <tr>\n",
       "      <th>3</th>\n",
       "      <td>3326856598</td>\n",
       "      <td>1504348503996</td>\n",
       "      <td>1758</td>\n",
       "      <td>9</td>\n",
       "      <td>1</td>\n",
       "      <td>1</td>\n",
       "      <td>1</td>\n",
       "      <td>1</td>\n",
       "      <td>1</td>\n",
       "      <td>1</td>\n",
       "      <td>...</td>\n",
       "      <td>0</td>\n",
       "      <td>0</td>\n",
       "      <td>0</td>\n",
       "      <td>0</td>\n",
       "      <td>0</td>\n",
       "      <td>164</td>\n",
       "      <td>18</td>\n",
       "      <td>141</td>\n",
       "      <td>40</td>\n",
       "      <td>51</td>\n",
       "    </tr>\n",
       "    <tr>\n",
       "      <th>4</th>\n",
       "      <td>3330080762</td>\n",
       "      <td>1504554410899</td>\n",
       "      <td>2094</td>\n",
       "      <td>9</td>\n",
       "      <td>1</td>\n",
       "      <td>2</td>\n",
       "      <td>1</td>\n",
       "      <td>1</td>\n",
       "      <td>1</td>\n",
       "      <td>1</td>\n",
       "      <td>...</td>\n",
       "      <td>3</td>\n",
       "      <td>0</td>\n",
       "      <td>0</td>\n",
       "      <td>1</td>\n",
       "      <td>0</td>\n",
       "      <td>86</td>\n",
       "      <td>11</td>\n",
       "      <td>201</td>\n",
       "      <td>122</td>\n",
       "      <td>18</td>\n",
       "    </tr>\n",
       "    <tr>\n",
       "      <th>...</th>\n",
       "      <td>...</td>\n",
       "      <td>...</td>\n",
       "      <td>...</td>\n",
       "      <td>...</td>\n",
       "      <td>...</td>\n",
       "      <td>...</td>\n",
       "      <td>...</td>\n",
       "      <td>...</td>\n",
       "      <td>...</td>\n",
       "      <td>...</td>\n",
       "      <td>...</td>\n",
       "      <td>...</td>\n",
       "      <td>...</td>\n",
       "      <td>...</td>\n",
       "      <td>...</td>\n",
       "      <td>...</td>\n",
       "      <td>...</td>\n",
       "      <td>...</td>\n",
       "      <td>...</td>\n",
       "      <td>...</td>\n",
       "      <td>...</td>\n",
       "    </tr>\n",
       "    <tr>\n",
       "      <th>51485</th>\n",
       "      <td>3308904636</td>\n",
       "      <td>1503076540231</td>\n",
       "      <td>1944</td>\n",
       "      <td>9</td>\n",
       "      <td>2</td>\n",
       "      <td>1</td>\n",
       "      <td>2</td>\n",
       "      <td>2</td>\n",
       "      <td>0</td>\n",
       "      <td>2</td>\n",
       "      <td>...</td>\n",
       "      <td>10</td>\n",
       "      <td>2</td>\n",
       "      <td>0</td>\n",
       "      <td>4</td>\n",
       "      <td>0</td>\n",
       "      <td>55</td>\n",
       "      <td>-1</td>\n",
       "      <td>90</td>\n",
       "      <td>238</td>\n",
       "      <td>157</td>\n",
       "    </tr>\n",
       "    <tr>\n",
       "      <th>51486</th>\n",
       "      <td>3215685759</td>\n",
       "      <td>1496957179355</td>\n",
       "      <td>3304</td>\n",
       "      <td>9</td>\n",
       "      <td>2</td>\n",
       "      <td>1</td>\n",
       "      <td>1</td>\n",
       "      <td>2</td>\n",
       "      <td>2</td>\n",
       "      <td>2</td>\n",
       "      <td>...</td>\n",
       "      <td>11</td>\n",
       "      <td>7</td>\n",
       "      <td>4</td>\n",
       "      <td>4</td>\n",
       "      <td>1</td>\n",
       "      <td>157</td>\n",
       "      <td>55</td>\n",
       "      <td>119</td>\n",
       "      <td>154</td>\n",
       "      <td>105</td>\n",
       "    </tr>\n",
       "    <tr>\n",
       "      <th>51487</th>\n",
       "      <td>3322765040</td>\n",
       "      <td>1504029863961</td>\n",
       "      <td>2156</td>\n",
       "      <td>9</td>\n",
       "      <td>2</td>\n",
       "      <td>2</td>\n",
       "      <td>2</td>\n",
       "      <td>2</td>\n",
       "      <td>0</td>\n",
       "      <td>1</td>\n",
       "      <td>...</td>\n",
       "      <td>10</td>\n",
       "      <td>2</td>\n",
       "      <td>0</td>\n",
       "      <td>2</td>\n",
       "      <td>0</td>\n",
       "      <td>113</td>\n",
       "      <td>122</td>\n",
       "      <td>53</td>\n",
       "      <td>11</td>\n",
       "      <td>157</td>\n",
       "    </tr>\n",
       "    <tr>\n",
       "      <th>51488</th>\n",
       "      <td>3256675373</td>\n",
       "      <td>1499562036246</td>\n",
       "      <td>1475</td>\n",
       "      <td>9</td>\n",
       "      <td>2</td>\n",
       "      <td>2</td>\n",
       "      <td>2</td>\n",
       "      <td>2</td>\n",
       "      <td>0</td>\n",
       "      <td>2</td>\n",
       "      <td>...</td>\n",
       "      <td>11</td>\n",
       "      <td>3</td>\n",
       "      <td>0</td>\n",
       "      <td>1</td>\n",
       "      <td>0</td>\n",
       "      <td>154</td>\n",
       "      <td>39</td>\n",
       "      <td>51</td>\n",
       "      <td>90</td>\n",
       "      <td>114</td>\n",
       "    </tr>\n",
       "    <tr>\n",
       "      <th>51489</th>\n",
       "      <td>3317333020</td>\n",
       "      <td>1503612754059</td>\n",
       "      <td>1445</td>\n",
       "      <td>9</td>\n",
       "      <td>1</td>\n",
       "      <td>1</td>\n",
       "      <td>1</td>\n",
       "      <td>1</td>\n",
       "      <td>1</td>\n",
       "      <td>2</td>\n",
       "      <td>...</td>\n",
       "      <td>1</td>\n",
       "      <td>0</td>\n",
       "      <td>0</td>\n",
       "      <td>1</td>\n",
       "      <td>0</td>\n",
       "      <td>11</td>\n",
       "      <td>157</td>\n",
       "      <td>141</td>\n",
       "      <td>31</td>\n",
       "      <td>18</td>\n",
       "    </tr>\n",
       "  </tbody>\n",
       "</table>\n",
       "<p>51490 rows × 61 columns</p>\n",
       "</div>"
      ],
      "text/plain": [
       "           gameId   creationTime  gameDuration  seasonId  winner  firstBlood  \\\n",
       "0      3326086514  1504279457970          1949         9       1           2   \n",
       "1      3229566029  1497848803862          1851         9       1           1   \n",
       "2      3327363504  1504360103310          1493         9       1           2   \n",
       "3      3326856598  1504348503996          1758         9       1           1   \n",
       "4      3330080762  1504554410899          2094         9       1           2   \n",
       "...           ...            ...           ...       ...     ...         ...   \n",
       "51485  3308904636  1503076540231          1944         9       2           1   \n",
       "51486  3215685759  1496957179355          3304         9       2           1   \n",
       "51487  3322765040  1504029863961          2156         9       2           2   \n",
       "51488  3256675373  1499562036246          1475         9       2           2   \n",
       "51489  3317333020  1503612754059          1445         9       1           1   \n",
       "\n",
       "       firstTower  firstInhibitor  firstBaron  firstDragon  ...  \\\n",
       "0               1               1           1            1  ...   \n",
       "1               1               1           0            1  ...   \n",
       "2               1               1           1            2  ...   \n",
       "3               1               1           1            1  ...   \n",
       "4               1               1           1            1  ...   \n",
       "...           ...             ...         ...          ...  ...   \n",
       "51485           2               2           0            2  ...   \n",
       "51486           1               2           2            2  ...   \n",
       "51487           2               2           0            1  ...   \n",
       "51488           2               2           0            2  ...   \n",
       "51489           1               1           1            2  ...   \n",
       "\n",
       "       t2_towerKills  t2_inhibitorKills  t2_baronKills  t2_dragonKills  \\\n",
       "0                  5                  0              0               1   \n",
       "1                  2                  0              0               0   \n",
       "2                  2                  0              0               1   \n",
       "3                  0                  0              0               0   \n",
       "4                  3                  0              0               1   \n",
       "...              ...                ...            ...             ...   \n",
       "51485             10                  2              0               4   \n",
       "51486             11                  7              4               4   \n",
       "51487             10                  2              0               2   \n",
       "51488             11                  3              0               1   \n",
       "51489              1                  0              0               1   \n",
       "\n",
       "       t2_riftHeraldKills  t2_ban1  t2_ban2  t2_ban3  t2_ban4  t2_ban5  \n",
       "0                       1      114       67       43       16       51  \n",
       "1                       0       11       67      238       51      420  \n",
       "2                       0      157      238      121       57       28  \n",
       "3                       0      164       18      141       40       51  \n",
       "4                       0       86       11      201      122       18  \n",
       "...                   ...      ...      ...      ...      ...      ...  \n",
       "51485                   0       55       -1       90      238      157  \n",
       "51486                   1      157       55      119      154      105  \n",
       "51487                   0      113      122       53       11      157  \n",
       "51488                   0      154       39       51       90      114  \n",
       "51489                   0       11      157      141       31       18  \n",
       "\n",
       "[51490 rows x 61 columns]"
      ]
     },
     "metadata": {},
     "output_type": "display_data"
    }
   ],
   "source": [
    "csv_file = 'lol_ranked_games.csv'\n",
    "lol = pd.read_csv(csv_file)\n",
    "lol"
   ]
  },
  {
   "cell_type": "code",
   "execution_count": null,
   "metadata": {},
   "outputs": [],
   "source": [
    "blue_wins = 0\n",
    "red_wins = 0"
   ]
  },
  {
   "cell_type": "markdown",
   "metadata": {},
   "source": [
    "<font color=\"lightblue\">**Partie 03:** <font color=\"black\">Détermination des victoires<br>\n",
    "<font color=\"lightblue\">**Objectif:** <font color=\"black\">Pouvoir déterminer quel équipe (côté) gagne le plus"
   ]
  },
  {
   "cell_type": "code",
   "execution_count": null,
   "metadata": {},
   "outputs": [],
   "source": [
    "for winner in lol['winner']:\n",
    "    if winner == 1:\n",
    "        blue_wins += 1\n",
    "    else:\n",
    "        red_wins +=1 "
   ]
  },
  {
   "cell_type": "code",
   "execution_count": null,
   "metadata": {},
   "outputs": [],
   "source": [
    "total_games = blue_wins + red_wins"
   ]
  },
  {
   "cell_type": "code",
   "execution_count": null,
   "metadata": {},
   "outputs": [
    {
     "name": "stdout",
     "output_type": "stream",
     "text": [
      "In the nitnth season of LOL, they were 51490 games in total.\n"
     ]
    }
   ],
   "source": [
    "print(\"In the nitnth season of LOL, they were\", total_games, \"games in total.\")"
   ]
  },
  {
   "cell_type": "code",
   "execution_count": null,
   "metadata": {},
   "outputs": [
    {
     "name": "stdout",
     "output_type": "stream",
     "text": [
      "The blue side (Team 1) won 26077 times, which is 50.64 % of the total games.\n",
      "The red side (Team 2) won 25413 times, which is 49.36 % of the total games.\n"
     ]
    }
   ],
   "source": [
    "print(\"The blue side (Team 1) won\", blue_wins, \"times, which is\", round(blue_wins/total_games*100,2),\"% of the total games.\")\n",
    "print(\"The red side (Team 2) won\", red_wins, \"times, which is\", round(red_wins/total_games*100,2),\"% of the total games.\")"
   ]
  },
  {
   "cell_type": "code",
   "execution_count": null,
   "metadata": {},
   "outputs": [],
   "source": [
    "win_data = pd.DataFrame({'winner': [blue_wins, red_wins]}, index=['Blue', 'Red'])"
   ]
  },
  {
   "cell_type": "code",
   "execution_count": null,
   "metadata": {},
   "outputs": [
    {
     "data": {
      "image/png": "[encoded data removed]",
      "text/plain": [
       "<Figure size 640x480 with 1 Axes>"
      ]
     },
     "metadata": {},
     "output_type": "display_data"
    }
   ],
   "source": [
    "mpl.bar(['Blue', 'Red'], [blue_wins, red_wins], color=['blue', 'red'])\n",
    "mpl.xlabel('Team')\n",
    "mpl.ylabel('Wins')\n",
    "mpl.title('Blue vs Red Wins')\n",
    "mpl.show()"
   ]
  },
  {
   "cell_type": "markdown",
   "metadata": {},
   "source": [
    "<font color=\"lightblue\">**Partie 04:** <font color=\"black\">Détermination (fateur de victoires)<br>\n",
    "<font color=\"lightblue\">**Objectif:** <font color=\"black\">Permettre de déterminer ce que sont les facteurs de victoires, et si il y'en a, dire a quel point cela influence la victoire ou non"
   ]
  },
  {
   "cell_type": "markdown",
   "metadata": {},
   "source": [
    "<font color=\"black\">Herald"
   ]
  },
  {
   "cell_type": "code",
   "execution_count": null,
   "metadata": {},
   "outputs": [],
   "source": [
    "FHeraldBlue = 0\n",
    "FHeraldRed =0\n",
    "NoHerald = 0"
   ]
  },
  {
   "cell_type": "code",
   "execution_count": null,
   "metadata": {},
   "outputs": [],
   "source": [
    "for herald in lol['firstRiftHerald']:\n",
    "    if  herald== 1:\n",
    "        FHeraldBlue += 1\n",
    "    elif herald == 2:\n",
    "        FHeraldRed +=1\n",
    "    else:\n",
    "        NoHerald +=1"
   ]
  },
  {
   "cell_type": "code",
   "execution_count": null,
   "metadata": {},
   "outputs": [
    {
     "name": "stdout",
     "output_type": "stream",
     "text": [
      "In the span of 51490 games, the blue side took first herald 12948 Times\n"
     ]
    }
   ],
   "source": [
    "print (\"In the span of\", total_games, \"games, the blue side took first herald\", FHeraldBlue, \"Times\")"
   ]
  },
  {
   "cell_type": "code",
   "execution_count": null,
   "metadata": {},
   "outputs": [
    {
     "name": "stdout",
     "output_type": "stream",
     "text": [
      "In the span of 51490 games, the red side took first herald 12363 Times\n"
     ]
    }
   ],
   "source": [
    "print (\"In the span of\", total_games, \"games, the red side took first herald\", FHeraldRed, \"Times\")"
   ]
  },
  {
   "cell_type": "code",
   "execution_count": null,
   "metadata": {},
   "outputs": [
    {
     "name": "stdout",
     "output_type": "stream",
     "text": [
      "In contrary,over 51490 games, no one took the first herald 26179 Times\n"
     ]
    }
   ],
   "source": [
    "print (\"In contrary,over\", total_games, \"games, no one took the first herald\", NoHerald, \"Times\")"
   ]
  },
  {
   "cell_type": "code",
   "execution_count": null,
   "metadata": {},
   "outputs": [],
   "source": [
    "blueW_with_herald = lol[(lol['firstRiftHerald'] == 1) & (lol['winner'] == 1)].shape[0]\n",
    "redW_with_herald = lol[(lol['firstRiftHerald'] == 2) & (lol['winner'] == 2)].shape[0]\n",
    "blueW_without_herald = lol[(lol['firstRiftHerald'] != 1) & (lol['winner'] == 1)].shape[0]\n",
    "redW_without_herald = lol[(lol['firstRiftHerald'] != 2) & (lol['winner'] == 2)].shape[0]"
   ]
  },
  {
   "cell_type": "code",
   "execution_count": null,
   "metadata": {},
   "outputs": [],
   "source": [
    "labels = ['Blue wins with Herald', 'Red wins with Herald', 'Blue wins without Herald', 'Red wins without Herald']\n",
    "sizes = [blueW_with_herald, redW_with_herald, blueW_without_herald, redW_without_herald]\n"
   ]
  },
  {
   "cell_type": "code",
   "execution_count": null,
   "metadata": {},
   "outputs": [
    {
     "data": {
      "text/plain": [
       "(-1.0999998863860374,\n",
       " 1.0999999674508418,\n",
       " -1.0999999139592913,\n",
       " 1.0999999959028235)"
      ]
     },
     "metadata": {},
     "output_type": "display_data"
    },
    {
     "data": {
      "image/png": "[encoded data removed]",
      "text/plain": [
       "<Figure size 640x480 with 1 Axes>"
      ]
     },
     "metadata": {},
     "output_type": "display_data"
    }
   ],
   "source": [
    "fig1, ax1 = mpl.subplots()\n",
    "ax1.pie(sizes, labels=labels, autopct='%1.1f%%', startangle=90)\n",
    "ax1.axis('equal')"
   ]
  },
  {
   "cell_type": "code",
   "execution_count": null,
   "metadata": {},
   "outputs": [],
   "source": []
  },
  {
   "cell_type": "code",
   "execution_count": null,
   "metadata": {},
   "outputs": [],
   "source": []
  },
  {
   "cell_type": "markdown",
   "metadata": {},
   "source": [
    "<font size=\"4\">Projet: Wonder Trade Analysis<br><br>\n",
    "<font size=\"3\">**Problématique:** LA_PROBLEMATIQUE<br>\n",
    "<font size=\"3\">**Membre attitré:** Théophile R."
   ]
  },
  {
   "cell_type": "markdown",
   "metadata": {},
   "source": [
    "<font color=\"lightblue\">**Partie 01:** <font color=\"white\">Importation(s)<br>\n",
    "<font color=\"lightblue\">**Objectif:** <font color=\"white\">Installation des dépendances requises *(numpy et pandas)*"
   ]
  },
  {
   "cell_type": "code",
   "execution_count": null,
   "metadata": {},
   "outputs": [
    {
     "name": "stdout",
     "output_type": "stream",
     "text": [
      "Collecting numpy\n",
      "  Using cached numpy-1.24.2-cp38-cp38-manylinux_2_17_x86_64.manylinux2014_x86_64.whl (17.3 MB)\n",
      "Installing collected packages: numpy\n",
      "Successfully installed numpy-1.24.2\n",
      "\n",
      "\u001b[1m[\u001b[0m\u001b[34;49mnotice\u001b[0m\u001b[1;39;49m]\u001b[0m\u001b[39;49m A new release of pip available: \u001b[0m\u001b[31;49m22.3.1\u001b[0m\u001b[39;49m -> \u001b[0m\u001b[32;49m23.0.1\u001b[0m\n",
      "\u001b[1m[\u001b[0m\u001b[34;49mnotice\u001b[0m\u001b[1;39;49m]\u001b[0m\u001b[39;49m To update, run: \u001b[0m\u001b[32;49mpip install --upgrade pip\u001b[0m\n",
      "Collecting pandas\n",
      "  Using cached pandas-1.5.3-cp38-cp38-manylinux_2_17_x86_64.manylinux2014_x86_64.whl (12.2 MB)\n",
      "Collecting pytz>=2020.1\n",
      "  Using cached pytz-2022.7.1-py2.py3-none-any.whl (499 kB)\n",
      "Requirement already satisfied: numpy>=1.20.3 in /home/gitpod/.pyenv/versions/3.8.16/lib/python3.8/site-packages (from pandas) (1.24.2)\n",
      "Requirement already satisfied: python-dateutil>=2.8.1 in /home/gitpod/.pyenv/versions/3.8.16/lib/python3.8/site-packages (from pandas) (2.8.2)\n",
      "Requirement already satisfied: six>=1.5 in /home/gitpod/.pyenv/versions/3.8.16/lib/python3.8/site-packages (from python-dateutil>=2.8.1->pandas) (1.16.0)\n",
      "Installing collected packages: pytz, pandas\n",
      "Successfully installed pandas-1.5.3 pytz-2022.7.1\n",
      "\n",
      "\u001b[1m[\u001b[0m\u001b[34;49mnotice\u001b[0m\u001b[1;39;49m]\u001b[0m\u001b[39;49m A new release of pip available: \u001b[0m\u001b[31;49m22.3.1\u001b[0m\u001b[39;49m -> \u001b[0m\u001b[32;49m23.0.1\u001b[0m\n",
      "\u001b[1m[\u001b[0m\u001b[34;49mnotice\u001b[0m\u001b[1;39;49m]\u001b[0m\u001b[39;49m To update, run: \u001b[0m\u001b[32;49mpip install --upgrade pip\u001b[0m\n",
      "Collecting matplotlib\n",
      "  Using cached matplotlib-3.7.0-cp38-cp38-manylinux_2_12_x86_64.manylinux2010_x86_64.whl (9.2 MB)\n",
      "Requirement already satisfied: numpy>=1.20 in /home/gitpod/.pyenv/versions/3.8.16/lib/python3.8/site-packages (from matplotlib) (1.24.2)\n",
      "Requirement already satisfied: packaging>=20.0 in /home/gitpod/.pyenv/versions/3.8.16/lib/python3.8/site-packages (from matplotlib) (23.0)\n",
      "Collecting contourpy>=1.0.1\n",
      "  Using cached contourpy-1.0.7-cp38-cp38-manylinux_2_17_x86_64.manylinux2014_x86_64.whl (300 kB)\n",
      "Collecting pillow>=6.2.0\n",
      "  Using cached Pillow-9.4.0-cp38-cp38-manylinux_2_28_x86_64.whl (3.4 MB)\n",
      "Collecting kiwisolver>=1.0.1\n",
      "  Using cached kiwisolver-1.4.4-cp38-cp38-manylinux_2_5_x86_64.manylinux1_x86_64.whl (1.2 MB)\n",
      "Collecting fonttools>=4.22.0\n",
      "  Using cached fonttools-4.38.0-py3-none-any.whl (965 kB)\n",
      "Requirement already satisfied: python-dateutil>=2.7 in /home/gitpod/.pyenv/versions/3.8.16/lib/python3.8/site-packages (from matplotlib) (2.8.2)\n",
      "Collecting cycler>=0.10\n",
      "  Using cached cycler-0.11.0-py3-none-any.whl (6.4 kB)\n",
      "Collecting pyparsing>=2.3.1\n",
      "  Using cached pyparsing-3.0.9-py3-none-any.whl (98 kB)\n",
      "Requirement already satisfied: importlib-resources>=3.2.0 in /home/gitpod/.pyenv/versions/3.8.16/lib/python3.8/site-packages (from matplotlib) (5.10.2)\n",
      "Requirement already satisfied: zipp>=3.1.0 in /home/gitpod/.pyenv/versions/3.8.16/lib/python3.8/site-packages (from importlib-resources>=3.2.0->matplotlib) (3.11.0)\n",
      "Requirement already satisfied: six>=1.5 in /home/gitpod/.pyenv/versions/3.8.16/lib/python3.8/site-packages (from python-dateutil>=2.7->matplotlib) (1.16.0)\n",
      "Installing collected packages: pyparsing, pillow, kiwisolver, fonttools, cycler, contourpy, matplotlib\n",
      "Successfully installed contourpy-1.0.7 cycler-0.11.0 fonttools-4.38.0 kiwisolver-1.4.4 matplotlib-3.7.0 pillow-9.4.0 pyparsing-3.0.9\n",
      "\n",
      "\u001b[1m[\u001b[0m\u001b[34;49mnotice\u001b[0m\u001b[1;39;49m]\u001b[0m\u001b[39;49m A new release of pip available: \u001b[0m\u001b[31;49m22.3.1\u001b[0m\u001b[39;49m -> \u001b[0m\u001b[32;49m23.0.1\u001b[0m\n",
      "\u001b[1m[\u001b[0m\u001b[34;49mnotice\u001b[0m\u001b[1;39;49m]\u001b[0m\u001b[39;49m To update, run: \u001b[0m\u001b[32;49mpip install --upgrade pip\u001b[0m\n"
     ]
    }
   ],
   "source": [
    " import sys\n",
    "\n",
    "!{sys.executable} -m pip install numpy\n",
    "!{sys.executable} -m pip install pandas\n",
    "!{sys.executable} -m pip install matplotlib"
   ]
  },
  {
   "cell_type": "markdown",
   "metadata": {},
   "source": [
    "# Calcul des Winrates les plus élevés\n",
    "Dans un premier temps, il est intéressant d'étudier quels sont les personnages qui s'avèrent sortir individuellement du lot parmis tous les champions. Nous allons donc dans le programme suivant analyser les 5 champions au winrate le plus élevé dans l'échantillon sur lequel nous travaillons."
   ]
  },
  {
   "cell_type": "code",
   "execution_count": null,
   "metadata": {},
   "outputs": [
    {
     "data": {
      "image/png": "[encoded data removed]",
      "text/plain": [
       "<Figure size 1600x800 with 1 Axes>"
      ]
     },
     "metadata": {},
     "output_type": "display_data"
    }
   ],
   "source": [
    "import pandas as pd\n",
    "import matplotlib.pyplot as plt\n",
    "\n",
    "# crée un dataframe à partir du csv\n",
    "df = pd.read_csv('lol_ranked_games.csv')\n",
    "\n",
    "# fonction de calcul du winrate d'un champion avec son champion id\n",
    "def calculate_winrate(champ_id):\n",
    "    champ_wins = df[(df['winner'] == 1) & ((df['t1_champ1id'] == champ_id) | (df['t1_champ2id'] == champ_id) | (df['t1_champ3id'] == champ_id) | (df['t1_champ4id'] == champ_id) | (df['t1_champ5id'] == champ_id))].shape[0]\n",
    "    champ_losses = df[(df['winner'] == 2) & ((df['t2_champ1id'] == champ_id) | (df['t2_champ2id'] == champ_id) | (df['t2_champ3id'] == champ_id) | (df['t2_champ4id'] == champ_id) | (df['t2_champ5id'] == champ_id))].shape[0]\n",
    "    champ_total_games = champ_wins + champ_losses\n",
    "    if champ_total_games > 0:\n",
    "        winrate = champ_wins / champ_total_games * 100\n",
    "    else:\n",
    "        winrate = 0\n",
    "    return winrate\n",
    "\n",
    "# set indexant tous les champs id présents dans le dataframe\n",
    "all_champ_ids = set(df[['t1_champ1id', 't1_champ2id', 't1_champ3id', 't1_champ4id', 't1_champ5id', 't2_champ1id', 't2_champ2id', 't2_champ3id', 't2_champ4id', 't2_champ5id']].values.flatten())\n",
    "\n",
    "# dictionnaire contenant les champs id et leur winrate\n",
    "winrates = {}\n",
    "for champ_id in all_champ_ids:\n",
    "    winrates[champ_id] = calculate_winrate(champ_id)\n",
    "\n",
    "# sort le dictionnaire et donne la liste des wr\n",
    "sorted_winrates = [winrates[champ_id] for champ_id in sorted(winrates.keys())]\n",
    "\n",
    "# top 5 des wr\n",
    "top_5_champs = sorted(winrates, key=winrates.get, reverse=True)[:5]\n",
    "\n",
    "# list de tous les champs id et leur wr, en excluant le top 5\n",
    "champ_data = [(champ_id, winrates[champ_id]) for champ_id in sorted(winrates.keys()) if champ_id not in top_5_champs]\n",
    "\n",
    "# création du graph en isolant les 5 champions du top 5\n",
    "fig, ax = plt.subplots(figsize=(16,8))\n",
    "for i, (champ_id, winrate) in enumerate(champ_data):\n",
    "    ax.bar(i, winrate, color='blue', alpha=0.5)\n",
    "for i, champ_id in enumerate(top_5_champs):\n",
    "    ax.bar(i + len(champ_data), winrates[champ_id], color='red', alpha=0.5)\n",
    "\n",
    "ax.set_xticklabels([])\n",
    "\n",
    "plt.title('Win Rates for all Champion IDs')\n",
    "plt.xlabel('Champion ID')\n",
    "plt.ylabel('Win Rate (%)')\n",
    "plt.ylim(0, 100)\n",
    "\n",
    "plt.show()\n"
   ]
  },
  {
   "cell_type": "markdown",
   "metadata": {},
   "source": [
    "# Correlation\n",
    "Maintenant que nous avons vu quels étaient les champions qui ont le pourcentage de wr le plus élevé, nous allons maintenant étudier les limites de ces pourcentages. Ces personnages sont ils fort dans toutes les situations ? Sont ils forts quand joués ensembles ? peut-on essayer de créer un équipe \"parfaite\" ?\n",
    "\n",
    "Dans un premier temps, nous avons pu observer que Kindred peut être considérer comme le personnage le plus puissant de cet échantillon. Penchons nous donc sur le ou les personnages avec lesquels elle se débrouille le mieux. Nous allons nous servir de la même méthode."
   ]
  },
  {
   "cell_type": "code",
   "execution_count": null,
   "metadata": {},
   "outputs": [
    {
     "name": "stdout",
     "output_type": "stream",
     "text": [
      "Top 5 des champions avec lesquels Kindred obtient le meilleur winrate :\n",
      "Champion 136: 2.60%\n",
      "Champion 223: 2.56%\n",
      "Champion 13: 2.04%\n",
      "Champion 101: 1.99%\n",
      "Champion 112: 1.95%\n"
     ]
    },
    {
     "name": "stderr",
     "output_type": "stream",
     "text": [
      "/tmp/ipykernel_1059/3903326962.py:22: FutureWarning: iteritems is deprecated and will be removed in a future version. Use .items instead.\n",
      "  for champ, wins in champ_wins[col].iteritems():\n"
     ]
    }
   ],
   "source": [
    "import pandas as pd\n",
    "\n",
    "# import du dataset dans un dataframe\n",
    "df = pd.read_csv('lol_ranked_games.csv')\n",
    "\n",
    "# création d'un colonne ou kindred est dans la même équipe\n",
    "df['kindred_in_team'] = (df['t1_champ1id'] == 203) | (df['t1_champ2id'] == 203) | (df['t1_champ3id'] == 203) | (df['t1_champ4id'] == 203) | (df['t1_champ5id'] == 203)\n",
    "\n",
    "# création d'une ligne où kindred est dans la même équipe et que cette équipe est gagnante\n",
    "df_203_win = df[(df['kindred_in_team'] == True) & (df['winner'] == 1)]\n",
    "\n",
    "# calcule du winrate de chaque champ\n",
    "champ_wins = {}\n",
    "champ_total = {}\n",
    "for col in ['t1_champ1id', 't1_champ2id', 't1_champ3id', 't1_champ4id', 't1_champ5id']:\n",
    "    champ_wins[col] = df_203_win[col].value_counts()\n",
    "    champ_total[col] = df[col].value_counts()\n",
    "\n",
    "# calcul des wr de chaque champ avec kindred exclu\n",
    "winrates = {}\n",
    "for col in champ_wins.keys():\n",
    "    for champ, wins in champ_wins[col].iteritems():\n",
    "        if champ == 203:\n",
    "            continue\n",
    "        total = champ_total[col].get(champ, 0)\n",
    "        winrate = wins / total if total > 0 else 0\n",
    "        winrates[champ] = winrate\n",
    "\n",
    "# création du top 5  \n",
    "top_5_champs = sorted(winrates.items(), key=lambda x: x[1], reverse=True)[:5]\n",
    "\n",
    "# résultat\n",
    "print(\"Top 5 des champions avec lesquels Kindred obtient le meilleur winrate :\")\n",
    "for champ, winrate in top_5_champs:\n",
    "    print(f\"Champion {int(champ)}: {winrate*100:.2f}%\")\n"
   ]
  }
 ],
 "metadata": {
  "language_info": {
   "name": "python"
  },
  "orig_nbformat": 4
 },
 "nbformat": 4,
 "nbformat_minor": 2
}
